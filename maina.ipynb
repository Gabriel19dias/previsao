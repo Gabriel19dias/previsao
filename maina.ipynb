{
 "cells": [
  {
   "cell_type": "code",
   "execution_count": 4,
   "metadata": {},
   "outputs": [
    {
     "name": "stderr",
     "output_type": "stream",
     "text": [
      "17:01:38 - cmdstanpy - INFO - Chain [1] start processing\n",
      "17:01:38 - cmdstanpy - INFO - Chain [1] done processing\n"
     ]
    },
    {
     "name": "stdout",
     "output_type": "stream",
     "text": [
      "Relatório exportado para: C:\\Users\\BR05307045\\OneDrive - Prosegur Cia. De Seguridad, S.A\\Escritorio\\ia -rotas\\prev.xlsx\n"
     ]
    }
   ],
   "source": [
    "import pandas as pd\n",
    "from prophet import Prophet\n",
    "import matplotlib.pyplot as plt\n",
    "\n",
    "# Carregar os dados do arquivo Excel\n",
    "file_path = r\"C:\\Users\\BR05307045\\OneDrive - Prosegur Cia. De Seguridad, S.A\\Escritorio\\ia -rotas\\base.xlsx\"\n",
    "df = pd.read_excel(file_path)\n",
    "\n",
    "# Converter a coluna \"Created\" para o formato datetime\n",
    "df['Created'] = pd.to_datetime(df['Created'], format='%d/%m/%Y')\n",
    "\n",
    "# Contar a quantidade de status \"Fechado\" por data\n",
    "status_count = df[df['Status'] == 'Fechado'].groupby(df['Created']).size().reset_index(name='Quantidade')\n",
    "\n",
    "# Renomear as colunas para o formato esperado pelo Prophet\n",
    "status_count.columns = ['ds', 'y']\n",
    "\n",
    "# Instanciar o modelo\n",
    "model = Prophet()\n",
    "\n",
    "# Ajustar o modelo aos dados\n",
    "model.fit(status_count)\n",
    "\n",
    "# Fazer previsões para o futuro\n",
    "future = model.make_future_dataframe(periods=30)  # Ajuste o número de dias conforme necessário\n",
    "forecast = model.predict(future)\n",
    "\n",
    "# Renomear as colunas da previsão para facilitar a compreensão\n",
    "forecast = forecast.rename(columns={\n",
    "    'ds': 'Data',\n",
    "    'yhat': 'Previsão (Chamados Fechados)',\n",
    "    'yhat_lower': 'Limite Inferior (Confiança)',\n",
    "    'yhat_upper': 'Limite Superior (Confiança)'\n",
    "})\n",
    "\n",
    "# Arredondar os valores numéricos\n",
    "forecast['Previsão (Chamados Fechados)'] = forecast['Previsão (Chamados Fechados)'].round(0)\n",
    "forecast['Limite Inferior (Confiança)'] = forecast['Limite Inferior (Confiança)'].round(0)\n",
    "forecast['Limite Superior (Confiança)'] = forecast['Limite Superior (Confiança)'].round(0)\n",
    "\n",
    "# Selecionar as colunas a serem exportadas\n",
    "output_data = forecast[['Data', 'Previsão (Chamados Fechados)', 'Limite Inferior (Confiança)', 'Limite Superior (Confiança)']]\n",
    "\n",
    "# Exportar para Excel\n",
    "output_file_path = r\"C:\\Users\\BR05307045\\OneDrive - Prosegur Cia. De Seguridad, S.A\\Escritorio\\ia -rotas\\prev.xlsx\"\n",
    "output_data.to_excel(output_file_path, index=False)\n",
    "\n",
    "print(f\"Relatório exportado para: {output_file_path}\")\n",
    "\n"
   ]
  }
 ],
 "metadata": {
  "kernelspec": {
   "display_name": "Python 3",
   "language": "python",
   "name": "python3"
  },
  "language_info": {
   "codemirror_mode": {
    "name": "ipython",
    "version": 3
   },
   "file_extension": ".py",
   "mimetype": "text/x-python",
   "name": "python",
   "nbconvert_exporter": "python",
   "pygments_lexer": "ipython3",
   "version": "3.12.1"
  }
 },
 "nbformat": 4,
 "nbformat_minor": 2
}
